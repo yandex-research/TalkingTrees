{
 "cells": [
  {
   "cell_type": "markdown",
   "metadata": {},
   "source": [
    "### Baselines\n",
    "\n",
    "This code builds a simple bagging ensemble based on Kfold train/val split. Use it for quick idea testing with GPT-5-assisted tree generation."
   ]
  },
  {
   "cell_type": "code",
   "execution_count": 1,
   "metadata": {},
   "outputs": [
    {
     "name": "stderr",
     "output_type": "stream",
     "text": [
      "/home/irubachev/projects/dirty_data/.venv/lib/python3.12/site-packages/tqdm/auto.py:21: TqdmWarning: IProgress not found. Please update jupyter and ipywidgets. See https://ipywidgets.readthedocs.io/en/stable/user_install.html\n",
      "  from .autonotebook import tqdm as notebook_tqdm\n"
     ]
    }
   ],
   "source": [
    "import optuna\n",
    "\n",
    "import os\n",
    "import re\n",
    "import json\n",
    "import numpy as np\n",
    "import pandas as pd\n",
    "import openml\n",
    "import smolagents\n",
    "from pathlib import Path\n",
    "from huggingface_hub import login\n",
    "import prompting\n",
    "import tree_agent\n",
    "from sklearn.model_selection import train_test_split\n",
    "from sklearn.compose import ColumnTransformer\n",
    "from sklearn.preprocessing import OrdinalEncoder\n",
    "from sklearn.tree import DecisionTreeClassifier, DecisionTreeRegressor\n",
    "\n",
    "\n",
    "from task import metric_func_by_task, get_task_variables, add_tabpfn_baseline"
   ]
  },
  {
   "cell_type": "code",
   "execution_count": 2,
   "metadata": {},
   "outputs": [
    {
     "name": "stdout",
     "output_type": "stream",
     "text": [
      "airfoil_self_noise 1503 363612\n",
      "anneal 898 363614\n",
      "Another-Dataset-on-used-Fiat-500 1538 363615\n",
      "blood-transfusion-service-center 748 363621\n",
      "concrete_compressive_strength 1030 363625\n",
      "credit-g 1000 363626\n",
      "diabetes 768 363629\n",
      "Fitness_Club 1500 363671\n",
      "hazelnut-spread-contaminant-detection 2400 363674\n",
      "healthcare_insurance_expenses 1338 363675\n",
      "Is-this-a-good-customer 1723 363682\n",
      "Marketing_Campaign 2240 363684\n",
      "maternal_health_risk 1014 363685\n",
      "qsar-biodeg 1054 363696\n",
      "QSAR_fish_toxicity 907 363698\n",
      "website_phishing 1353 363707\n",
      "MIC 1699 363711\n"
     ]
    }
   ],
   "source": [
    "# Load tabular benchmark\n",
    "tabarena_version = \"tabarena-v0.1\"\n",
    "benchmark_suite = openml.study.get_suite(tabarena_version)\n",
    "task_ids = benchmark_suite.tasks\n",
    "dataset_name_to_task_id = {}\n",
    "for task_id in task_ids:\n",
    "    task = openml.tasks.get_task(task_id)\n",
    "    dataset = task.get_dataset()\n",
    "    n_samples = dataset.qualities[\"NumberOfInstances\"]\n",
    "    if n_samples < 2_500:\n",
    "        dataset_name_to_task_id[dataset.name] = task_id\n",
    "        print(dataset.name, int(n_samples), task_id)"
   ]
  },
  {
   "cell_type": "markdown",
   "metadata": {},
   "source": [
    "### Tuning utils"
   ]
  },
  {
   "cell_type": "code",
   "execution_count": 3,
   "metadata": {},
   "outputs": [],
   "source": [
    "def preprocess_for_tree(data):\n",
    "    \"ordinal encoding for cat features\"\n",
    "    categorical_indicator = data['categorical_indicator']\n",
    "    X = pd.concat([data['X_train'], data['X_test']])\n",
    "    \n",
    "    categorical_features = [\n",
    "        col\n",
    "        for col, is_cat in zip(X.columns, categorical_indicator)\n",
    "        if is_cat or X[col].dtype is np.dtype(\"O\")\n",
    "    ]\n",
    "    numeric_features = [col for col in X.columns if col not in categorical_features]\n",
    "    \n",
    "    # ordinally encode cat features \n",
    "    preprocessor = (\n",
    "        ColumnTransformer(\n",
    "            [\n",
    "                (\"num\", \"passthrough\", numeric_features),\n",
    "                (\n",
    "                    \"cat\",\n",
    "                    OrdinalEncoder(\n",
    "                        handle_unknown=\"use_encoded_value\", unknown_value=-1\n",
    "                    ),\n",
    "                    categorical_features,\n",
    "                ),\n",
    "            ]\n",
    "        )\n",
    "        if categorical_features\n",
    "        else ColumnTransformer([(\"num\", \"passthrough\", numeric_features)])\n",
    "    )\n",
    "\n",
    "    preprocessor.fit(X)\n",
    "    X_train = preprocessor.transform(data['X_train'])\n",
    "    X_test = preprocessor.transform(data['X_test'])\n",
    "    \n",
    "    return data | {'X_train': X_train, 'X_test': X_test}\n",
    "\n",
    "def tree_search_space(trial, task_type):\n",
    "    \"\"\"Decision tree hyperparameter search space.\"\"\"\n",
    "    params = {\n",
    "        \"max_depth\": trial.suggest_int(\"max_depth\", 1, 100),\n",
    "        \"min_samples_split\": trial.suggest_int(\"min_samples_split\", 2, 20),\n",
    "        \"min_samples_leaf\": trial.suggest_int(\"min_samples_leaf\", 1, 20),\n",
    "        \"criterion\": trial.suggest_categorical(\n",
    "            \"criterion\",\n",
    "            [\"gini\", \"entropy\", \"log_loss\"]\n",
    "            if task_type != \"regression\"\n",
    "            else [\"squared_error\", \"friedman_mse\"],\n",
    "        ),\n",
    "    }\n",
    "    if trial.suggest_categorical(\"use_ccp_alpha\", [False, True]):\n",
    "        params[\"ccp_alpha\"] = trial.suggest_float(\"ccp_alpha\", 1e-5, 0.1, log=True)\n",
    "\n",
    "    return params\n",
    "\n",
    "def get_pred_fn(model, task_type):\n",
    "    if task_type == 'regression':\n",
    "        return model.predict\n",
    "    elif task_type == 'binary':\n",
    "        return lambda x: model.predict_proba(x)[:, 1]\n",
    "    else:\n",
    "        return model.predict_proba\n",
    "\n",
    "def tune(model_fn, get_params_fn, X_train, y_train, X_val, y_val, task_type):\n",
    "    \"\"\"Tune hyperparameters.\"\"\"\n",
    "    trial_params = []\n",
    "\n",
    "    def objective(trial):\n",
    "        params = get_params_fn(trial, task_type)\n",
    "        model = model_fn(random_state=RANDOM_STATE, **params)\n",
    "        trial_params.append(params)\n",
    "        model.fit(X_train, y_train)\n",
    "        pred_fn = get_pred_fn(model, task_type)\n",
    "        sign = -1 if task_type in ('regression', 'multiclass') else 1\n",
    "        return sign * metric_func_by_task[task_type](y_val, pred_fn(X_val))\n",
    "\n",
    "    sampler = optuna.samplers.TPESampler(seed=0)\n",
    "    study = optuna.create_study(direction=\"maximize\", sampler=sampler)\n",
    "    optuna.logging.set_verbosity(optuna.logging.ERROR)\n",
    "    study.optimize(objective, n_trials=N_TRIALS, show_progress_bar=True)\n",
    "\n",
    "    return trial_params[study.best_trial.number]"
   ]
  },
  {
   "cell_type": "markdown",
   "metadata": {},
   "source": [
    "### Actual run"
   ]
  },
  {
   "cell_type": "code",
   "execution_count": 4,
   "metadata": {
    "scrolled": false
   },
   "outputs": [
    {
     "name": "stdout",
     "output_type": "stream",
     "text": [
      "\n",
      "\n",
      "\n",
      "====================================================================================================\n",
      "Running for Fitness_Club\n",
      "Beginning repeat 0\n",
      "Inferred task type: binary\n"
     ]
    },
    {
     "name": "stderr",
     "output_type": "stream",
     "text": [
      "[I 2025-09-23 20:11:05,318] A new study created in memory with name: no-name-2e35a93a-febc-4352-b7d2-aabfbd2c9997\n",
      "Best trial: 49. Best value: 0.822385: 100%|██████████| 200/200 [00:05<00:00, 39.72it/s]\n"
     ]
    },
    {
     "name": "stdout",
     "output_type": "stream",
     "text": [
      "Default Tree score: 0.6155\n",
      "Tuned Tree score: 0.7949\n",
      "Beginning repeat 1\n",
      "Inferred task type: binary\n"
     ]
    },
    {
     "name": "stderr",
     "output_type": "stream",
     "text": [
      "Best trial: 21. Best value: 0.820499: 100%|██████████| 200/200 [00:04<00:00, 40.21it/s]\n"
     ]
    },
    {
     "name": "stdout",
     "output_type": "stream",
     "text": [
      "Default Tree score: 0.5921\n",
      "Tuned Tree score: 0.8121\n",
      "Beginning repeat 2\n",
      "Inferred task type: binary\n"
     ]
    },
    {
     "name": "stderr",
     "output_type": "stream",
     "text": [
      "Best trial: 35. Best value: 0.805556: 100%|██████████| 200/200 [00:04<00:00, 43.61it/s]\n"
     ]
    },
    {
     "name": "stdout",
     "output_type": "stream",
     "text": [
      "Default Tree score: 0.6204\n",
      "Tuned Tree score: 0.7672\n",
      "Beginning repeat 3\n",
      "Inferred task type: binary\n"
     ]
    },
    {
     "name": "stderr",
     "output_type": "stream",
     "text": [
      "Best trial: 12. Best value: 0.845362: 100%|██████████| 200/200 [00:05<00:00, 37.78it/s]\n"
     ]
    },
    {
     "name": "stdout",
     "output_type": "stream",
     "text": [
      "Default Tree score: 0.6127\n",
      "Tuned Tree score: 0.8231\n",
      "Beginning repeat 4\n",
      "Inferred task type: binary\n"
     ]
    },
    {
     "name": "stderr",
     "output_type": "stream",
     "text": [
      "Best trial: 134. Best value: 0.812624: 100%|██████████| 200/200 [00:05<00:00, 37.34it/s]\n"
     ]
    },
    {
     "name": "stdout",
     "output_type": "stream",
     "text": [
      "Default Tree score: 0.6337\n",
      "Tuned Tree score: 0.8030\n",
      "\n",
      "\n",
      "\n",
      "====================================================================================================\n",
      "Running for hazelnut-spread-contaminant-detection\n",
      "Beginning repeat 0\n",
      "Inferred task type: binary\n"
     ]
    },
    {
     "name": "stderr",
     "output_type": "stream",
     "text": [
      "Best trial: 105. Best value: 0.893601: 100%|██████████| 200/200 [00:11<00:00, 17.79it/s]\n"
     ]
    },
    {
     "name": "stdout",
     "output_type": "stream",
     "text": [
      "Default Tree score: 0.7975\n",
      "Tuned Tree score: 0.8738\n",
      "Beginning repeat 1\n",
      "Inferred task type: binary\n"
     ]
    },
    {
     "name": "stderr",
     "output_type": "stream",
     "text": [
      "Best trial: 2. Best value: 0.914689: 100%|██████████| 200/200 [00:11<00:00, 17.83it/s]\n"
     ]
    },
    {
     "name": "stdout",
     "output_type": "stream",
     "text": [
      "Default Tree score: 0.8087\n",
      "Tuned Tree score: 0.8957\n",
      "Beginning repeat 2\n",
      "Inferred task type: binary\n"
     ]
    },
    {
     "name": "stderr",
     "output_type": "stream",
     "text": [
      "Best trial: 2. Best value: 0.891565: 100%|██████████| 200/200 [00:10<00:00, 18.77it/s]\n"
     ]
    },
    {
     "name": "stdout",
     "output_type": "stream",
     "text": [
      "Default Tree score: 0.8300\n",
      "Tuned Tree score: 0.8883\n",
      "Beginning repeat 3\n",
      "Inferred task type: binary\n"
     ]
    },
    {
     "name": "stderr",
     "output_type": "stream",
     "text": [
      "Best trial: 10. Best value: 0.881207: 100%|██████████| 200/200 [00:10<00:00, 18.45it/s]\n"
     ]
    },
    {
     "name": "stdout",
     "output_type": "stream",
     "text": [
      "Default Tree score: 0.8125\n",
      "Tuned Tree score: 0.9057\n",
      "Beginning repeat 4\n",
      "Inferred task type: binary\n"
     ]
    },
    {
     "name": "stderr",
     "output_type": "stream",
     "text": [
      "Best trial: 64. Best value: 0.877976: 100%|██████████| 200/200 [00:11<00:00, 16.69it/s]\n"
     ]
    },
    {
     "name": "stdout",
     "output_type": "stream",
     "text": [
      "Default Tree score: 0.8387\n",
      "Tuned Tree score: 0.9095\n",
      "\n",
      "\n",
      "\n",
      "====================================================================================================\n",
      "Running for healthcare_insurance_expenses\n",
      "Beginning repeat 0\n",
      "Inferred task type: regression\n"
     ]
    },
    {
     "name": "stderr",
     "output_type": "stream",
     "text": [
      "Best trial: 142. Best value: -5710.29: 100%|██████████| 200/200 [00:04<00:00, 45.55it/s]\n"
     ]
    },
    {
     "name": "stdout",
     "output_type": "stream",
     "text": [
      "Default Tree score: 6459.0024\n",
      "Tuned Tree score: 4237.3702\n",
      "Beginning repeat 1\n",
      "Inferred task type: regression\n"
     ]
    },
    {
     "name": "stderr",
     "output_type": "stream",
     "text": [
      "Best trial: 78. Best value: -5368.88: 100%|██████████| 200/200 [00:04<00:00, 41.42it/s]\n"
     ]
    },
    {
     "name": "stdout",
     "output_type": "stream",
     "text": [
      "Default Tree score: 6005.9153\n",
      "Tuned Tree score: 4502.4752\n",
      "Beginning repeat 2\n",
      "Inferred task type: regression\n"
     ]
    },
    {
     "name": "stderr",
     "output_type": "stream",
     "text": [
      "Best trial: 187. Best value: -4919.23: 100%|██████████| 200/200 [00:04<00:00, 42.73it/s]\n"
     ]
    },
    {
     "name": "stdout",
     "output_type": "stream",
     "text": [
      "Default Tree score: 6963.9839\n",
      "Tuned Tree score: 4706.8975\n",
      "Beginning repeat 3\n",
      "Inferred task type: regression\n"
     ]
    },
    {
     "name": "stderr",
     "output_type": "stream",
     "text": [
      "Best trial: 22. Best value: -4436.9: 100%|██████████| 200/200 [00:04<00:00, 45.76it/s]\n"
     ]
    },
    {
     "name": "stdout",
     "output_type": "stream",
     "text": [
      "Default Tree score: 5919.5303\n",
      "Tuned Tree score: 4505.4430\n",
      "Beginning repeat 4\n",
      "Inferred task type: regression\n"
     ]
    },
    {
     "name": "stderr",
     "output_type": "stream",
     "text": [
      "Best trial: 34. Best value: -4219.69: 100%|██████████| 200/200 [00:04<00:00, 46.68it/s]\n"
     ]
    },
    {
     "name": "stdout",
     "output_type": "stream",
     "text": [
      "Default Tree score: 6556.1025\n",
      "Tuned Tree score: 4519.1239\n",
      "\n",
      "\n",
      "\n",
      "====================================================================================================\n",
      "Running for Is-this-a-good-customer\n",
      "Beginning repeat 0\n",
      "Inferred task type: binary\n"
     ]
    },
    {
     "name": "stderr",
     "output_type": "stream",
     "text": [
      "Best trial: 133. Best value: 0.770035: 100%|██████████| 200/200 [00:05<00:00, 39.47it/s]\n"
     ]
    },
    {
     "name": "stdout",
     "output_type": "stream",
     "text": [
      "Default Tree score: 0.5372\n",
      "Tuned Tree score: 0.7002\n",
      "Beginning repeat 1\n",
      "Inferred task type: binary\n"
     ]
    },
    {
     "name": "stderr",
     "output_type": "stream",
     "text": [
      "Best trial: 135. Best value: 0.770651: 100%|██████████| 200/200 [00:04<00:00, 41.71it/s]\n"
     ]
    },
    {
     "name": "stdout",
     "output_type": "stream",
     "text": [
      "Default Tree score: 0.5356\n",
      "Tuned Tree score: 0.6938\n",
      "Beginning repeat 2\n",
      "Inferred task type: binary\n"
     ]
    },
    {
     "name": "stderr",
     "output_type": "stream",
     "text": [
      "Best trial: 167. Best value: 0.710583: 100%|██████████| 200/200 [00:04<00:00, 44.04it/s]\n"
     ]
    },
    {
     "name": "stdout",
     "output_type": "stream",
     "text": [
      "Default Tree score: 0.5642\n",
      "Tuned Tree score: 0.6919\n",
      "Beginning repeat 3\n",
      "Inferred task type: binary\n"
     ]
    },
    {
     "name": "stderr",
     "output_type": "stream",
     "text": [
      "Best trial: 14. Best value: 0.739348: 100%|██████████| 200/200 [00:05<00:00, 38.11it/s]\n"
     ]
    },
    {
     "name": "stdout",
     "output_type": "stream",
     "text": [
      "Default Tree score: 0.5381\n",
      "Tuned Tree score: 0.6892\n",
      "Beginning repeat 4\n",
      "Inferred task type: binary\n"
     ]
    },
    {
     "name": "stderr",
     "output_type": "stream",
     "text": [
      "Best trial: 89. Best value: 0.74227: 100%|██████████| 200/200 [00:04<00:00, 40.26it/s]\n"
     ]
    },
    {
     "name": "stdout",
     "output_type": "stream",
     "text": [
      "Default Tree score: 0.5705\n",
      "Tuned Tree score: 0.7159\n",
      "\n",
      "\n",
      "\n",
      "====================================================================================================\n",
      "Running for Marketing_Campaign\n",
      "Beginning repeat 0\n"
     ]
    },
    {
     "name": "stderr",
     "output_type": "stream",
     "text": [
      "WARNING:urllib3.connectionpool:Retrying (Retry(total=3, connect=None, read=None, redirect=None, status=None)) after connection broken by 'RemoteDisconnected('Remote end closed connection without response')': /datasets/0004/46940/dataset_46940.pq\n"
     ]
    },
    {
     "name": "stdout",
     "output_type": "stream",
     "text": [
      "Inferred task type: binary\n"
     ]
    },
    {
     "name": "stderr",
     "output_type": "stream",
     "text": [
      "Best trial: 35. Best value: 0.822091: 100%|██████████| 200/200 [00:06<00:00, 30.39it/s]\n"
     ]
    },
    {
     "name": "stdout",
     "output_type": "stream",
     "text": [
      "Default Tree score: 0.6668\n",
      "Tuned Tree score: 0.8280\n",
      "Beginning repeat 1\n",
      "Inferred task type: binary\n"
     ]
    },
    {
     "name": "stderr",
     "output_type": "stream",
     "text": [
      "Best trial: 118. Best value: 0.840608: 100%|██████████| 200/200 [00:05<00:00, 33.83it/s]\n"
     ]
    },
    {
     "name": "stdout",
     "output_type": "stream",
     "text": [
      "Default Tree score: 0.6397\n",
      "Tuned Tree score: 0.8017\n",
      "Beginning repeat 2\n",
      "Inferred task type: binary\n"
     ]
    },
    {
     "name": "stderr",
     "output_type": "stream",
     "text": [
      "Best trial: 71. Best value: 0.865484: 100%|██████████| 200/200 [00:06<00:00, 29.96it/s]\n"
     ]
    },
    {
     "name": "stdout",
     "output_type": "stream",
     "text": [
      "Default Tree score: 0.6907\n",
      "Tuned Tree score: 0.7581\n",
      "Beginning repeat 3\n",
      "Inferred task type: binary\n"
     ]
    },
    {
     "name": "stderr",
     "output_type": "stream",
     "text": [
      "Best trial: 103. Best value: 0.804992: 100%|██████████| 200/200 [00:06<00:00, 30.65it/s]\n"
     ]
    },
    {
     "name": "stdout",
     "output_type": "stream",
     "text": [
      "Default Tree score: 0.6910\n",
      "Tuned Tree score: 0.8091\n",
      "Beginning repeat 4\n",
      "Inferred task type: binary\n"
     ]
    },
    {
     "name": "stderr",
     "output_type": "stream",
     "text": [
      "Best trial: 2. Best value: 0.829008: 100%|██████████| 200/200 [00:05<00:00, 33.44it/s]\n"
     ]
    },
    {
     "name": "stdout",
     "output_type": "stream",
     "text": [
      "Default Tree score: 0.6695\n",
      "Tuned Tree score: 0.7977\n",
      "\n",
      "\n",
      "\n",
      "====================================================================================================\n",
      "Running for maternal_health_risk\n",
      "Beginning repeat 0\n",
      "Inferred task type: multiclass\n"
     ]
    },
    {
     "name": "stderr",
     "output_type": "stream",
     "text": [
      "Best trial: 6. Best value: -0.580748: 100%|██████████| 200/200 [00:04<00:00, 47.35it/s]\n"
     ]
    },
    {
     "name": "stdout",
     "output_type": "stream",
     "text": [
      "Default Tree score: 4.4932\n",
      "Tuned Tree score: 0.7766\n",
      "Beginning repeat 1\n",
      "Inferred task type: multiclass\n"
     ]
    },
    {
     "name": "stderr",
     "output_type": "stream",
     "text": [
      "Best trial: 197. Best value: -0.590829: 100%|██████████| 200/200 [00:04<00:00, 47.77it/s]\n"
     ]
    },
    {
     "name": "stdout",
     "output_type": "stream",
     "text": [
      "Default Tree score: 4.4031\n",
      "Tuned Tree score: 1.0981\n",
      "Beginning repeat 2\n",
      "Inferred task type: multiclass\n"
     ]
    },
    {
     "name": "stderr",
     "output_type": "stream",
     "text": [
      "Best trial: 114. Best value: -0.644587: 100%|██████████| 200/200 [00:04<00:00, 40.73it/s]\n"
     ]
    },
    {
     "name": "stdout",
     "output_type": "stream",
     "text": [
      "Default Tree score: 4.7034\n",
      "Tuned Tree score: 0.7582\n",
      "Beginning repeat 3\n",
      "Inferred task type: multiclass\n"
     ]
    },
    {
     "name": "stderr",
     "output_type": "stream",
     "text": [
      "Best trial: 158. Best value: -0.589546: 100%|██████████| 200/200 [00:04<00:00, 45.07it/s]\n"
     ]
    },
    {
     "name": "stdout",
     "output_type": "stream",
     "text": [
      "Default Tree score: 7.2904\n",
      "Tuned Tree score: 0.8266\n",
      "Beginning repeat 4\n",
      "Inferred task type: multiclass\n"
     ]
    },
    {
     "name": "stderr",
     "output_type": "stream",
     "text": [
      "Best trial: 196. Best value: -0.728742: 100%|██████████| 200/200 [00:04<00:00, 40.54it/s]\n"
     ]
    },
    {
     "name": "stdout",
     "output_type": "stream",
     "text": [
      "Default Tree score: 6.2996\n",
      "Tuned Tree score: 0.7859\n",
      "\n",
      "\n",
      "\n",
      "====================================================================================================\n",
      "Running for qsar-biodeg\n",
      "Beginning repeat 0\n"
     ]
    },
    {
     "name": "stderr",
     "output_type": "stream",
     "text": [
      "WARNING:urllib3.connectionpool:Retrying (Retry(total=3, connect=None, read=None, redirect=None, status=None)) after connection broken by 'RemoteDisconnected('Remote end closed connection without response')': /datasets/0004/46952/dataset_46952.pq\n",
      "WARNING:urllib3.connectionpool:Retrying (Retry(total=2, connect=None, read=None, redirect=None, status=None)) after connection broken by 'RemoteDisconnected('Remote end closed connection without response')': /datasets/0004/46952/dataset_46952.pq\n"
     ]
    },
    {
     "name": "stdout",
     "output_type": "stream",
     "text": [
      "Inferred task type: binary\n"
     ]
    },
    {
     "name": "stderr",
     "output_type": "stream",
     "text": [
      "Best trial: 81. Best value: 0.906686: 100%|██████████| 200/200 [00:05<00:00, 36.33it/s]\n"
     ]
    },
    {
     "name": "stdout",
     "output_type": "stream",
     "text": [
      "Default Tree score: 0.7907\n",
      "Tuned Tree score: 0.8293\n",
      "Beginning repeat 1\n",
      "Inferred task type: binary\n"
     ]
    },
    {
     "name": "stderr",
     "output_type": "stream",
     "text": [
      "Best trial: 28. Best value: 0.836941: 100%|██████████| 200/200 [00:05<00:00, 37.79it/s]\n"
     ]
    },
    {
     "name": "stdout",
     "output_type": "stream",
     "text": [
      "Default Tree score: 0.7865\n",
      "Tuned Tree score: 0.8771\n",
      "Beginning repeat 2\n",
      "Inferred task type: binary\n"
     ]
    },
    {
     "name": "stderr",
     "output_type": "stream",
     "text": [
      "Best trial: 56. Best value: 0.87013: 100%|██████████| 200/200 [00:05<00:00, 35.07it/s]\n"
     ]
    },
    {
     "name": "stdout",
     "output_type": "stream",
     "text": [
      "Default Tree score: 0.7566\n",
      "Tuned Tree score: 0.8221\n",
      "Beginning repeat 3\n",
      "Inferred task type: binary\n"
     ]
    },
    {
     "name": "stderr",
     "output_type": "stream",
     "text": [
      "Best trial: 177. Best value: 0.852152: 100%|██████████| 200/200 [00:05<00:00, 37.36it/s]\n"
     ]
    },
    {
     "name": "stdout",
     "output_type": "stream",
     "text": [
      "Default Tree score: 0.7988\n",
      "Tuned Tree score: 0.8617\n",
      "Beginning repeat 4\n",
      "Inferred task type: binary\n"
     ]
    },
    {
     "name": "stderr",
     "output_type": "stream",
     "text": [
      "Best trial: 129. Best value: 0.896185: 100%|██████████| 200/200 [00:05<00:00, 37.44it/s]\n"
     ]
    },
    {
     "name": "stdout",
     "output_type": "stream",
     "text": [
      "Default Tree score: 0.7716\n",
      "Tuned Tree score: 0.8706\n",
      "\n",
      "\n",
      "\n",
      "====================================================================================================\n",
      "Running for QSAR_fish_toxicity\n",
      "Beginning repeat 0\n",
      "Inferred task type: regression\n"
     ]
    },
    {
     "name": "stderr",
     "output_type": "stream",
     "text": [
      "Best trial: 28. Best value: -0.9978: 100%|██████████| 200/200 [00:04<00:00, 46.77it/s] \n"
     ]
    },
    {
     "name": "stdout",
     "output_type": "stream",
     "text": [
      "Default Tree score: 1.3428\n",
      "Tuned Tree score: 1.0760\n",
      "Beginning repeat 1\n",
      "Inferred task type: regression\n"
     ]
    },
    {
     "name": "stderr",
     "output_type": "stream",
     "text": [
      "Best trial: 149. Best value: -0.869975: 100%|██████████| 200/200 [00:04<00:00, 40.47it/s]\n"
     ]
    },
    {
     "name": "stdout",
     "output_type": "stream",
     "text": [
      "Default Tree score: 1.3149\n",
      "Tuned Tree score: 0.9920\n",
      "Beginning repeat 2\n",
      "Inferred task type: regression\n"
     ]
    },
    {
     "name": "stderr",
     "output_type": "stream",
     "text": [
      "Best trial: 24. Best value: -0.772139: 100%|██████████| 200/200 [00:04<00:00, 41.21it/s]\n"
     ]
    },
    {
     "name": "stdout",
     "output_type": "stream",
     "text": [
      "Default Tree score: 1.3057\n",
      "Tuned Tree score: 1.0459\n",
      "Beginning repeat 3\n",
      "Inferred task type: regression\n"
     ]
    },
    {
     "name": "stderr",
     "output_type": "stream",
     "text": [
      "Best trial: 36. Best value: -0.944208: 100%|██████████| 200/200 [00:04<00:00, 41.91it/s]\n"
     ]
    },
    {
     "name": "stdout",
     "output_type": "stream",
     "text": [
      "Default Tree score: 1.2574\n",
      "Tuned Tree score: 1.0000\n",
      "Beginning repeat 4\n",
      "Inferred task type: regression\n"
     ]
    },
    {
     "name": "stderr",
     "output_type": "stream",
     "text": [
      "Best trial: 17. Best value: -0.986348: 100%|██████████| 200/200 [00:04<00:00, 48.38it/s]\n"
     ]
    },
    {
     "name": "stdout",
     "output_type": "stream",
     "text": [
      "Default Tree score: 1.2760\n",
      "Tuned Tree score: 1.1026\n",
      "\n",
      "\n",
      "\n",
      "====================================================================================================\n",
      "Running for website_phishing\n",
      "Beginning repeat 0\n",
      "Inferred task type: multiclass\n"
     ]
    },
    {
     "name": "stderr",
     "output_type": "stream",
     "text": [
      "Best trial: 46. Best value: -0.3175: 100%|██████████| 200/200 [00:04<00:00, 41.34it/s] \n"
     ]
    },
    {
     "name": "stdout",
     "output_type": "stream",
     "text": [
      "Default Tree score: 3.3068\n",
      "Tuned Tree score: 0.5010\n",
      "Beginning repeat 1\n",
      "Inferred task type: multiclass\n"
     ]
    },
    {
     "name": "stderr",
     "output_type": "stream",
     "text": [
      "Best trial: 165. Best value: -0.285883: 100%|██████████| 200/200 [00:04<00:00, 41.44it/s]\n"
     ]
    },
    {
     "name": "stdout",
     "output_type": "stream",
     "text": [
      "Default Tree score: 3.4757\n",
      "Tuned Tree score: 0.8606\n",
      "Beginning repeat 2\n",
      "Inferred task type: multiclass\n"
     ]
    },
    {
     "name": "stderr",
     "output_type": "stream",
     "text": [
      "Best trial: 36. Best value: -0.478194: 100%|██████████| 200/200 [00:04<00:00, 42.55it/s]\n"
     ]
    },
    {
     "name": "stdout",
     "output_type": "stream",
     "text": [
      "Default Tree score: 3.9436\n",
      "Tuned Tree score: 0.9088\n",
      "Beginning repeat 3\n",
      "Inferred task type: multiclass\n"
     ]
    },
    {
     "name": "stderr",
     "output_type": "stream",
     "text": [
      "Best trial: 107. Best value: -0.264111: 100%|██████████| 200/200 [00:04<00:00, 41.86it/s]\n"
     ]
    },
    {
     "name": "stdout",
     "output_type": "stream",
     "text": [
      "Default Tree score: 4.2707\n",
      "Tuned Tree score: 0.5931\n",
      "Beginning repeat 4\n",
      "Inferred task type: multiclass\n"
     ]
    },
    {
     "name": "stderr",
     "output_type": "stream",
     "text": [
      "Best trial: 15. Best value: -0.506636: 100%|██████████| 200/200 [00:04<00:00, 41.82it/s]\n"
     ]
    },
    {
     "name": "stdout",
     "output_type": "stream",
     "text": [
      "Default Tree score: 4.1170\n",
      "Tuned Tree score: 0.5041\n",
      "\n",
      "\n",
      "\n",
      "====================================================================================================\n",
      "Running for MIC\n",
      "Beginning repeat 0\n"
     ]
    },
    {
     "name": "stderr",
     "output_type": "stream",
     "text": [
      "WARNING:urllib3.connectionpool:Retrying (Retry(total=3, connect=None, read=None, redirect=None, status=None)) after connection broken by 'RemoteDisconnected('Remote end closed connection without response')': /datasets/0004/46980/dataset_46980.pq\n",
      "WARNING:urllib3.connectionpool:Retrying (Retry(total=2, connect=None, read=None, redirect=None, status=None)) after connection broken by 'RemoteDisconnected('Remote end closed connection without response')': /datasets/0004/46980/dataset_46980.pq\n",
      "WARNING:urllib3.connectionpool:Retrying (Retry(total=1, connect=None, read=None, redirect=None, status=None)) after connection broken by 'RemoteDisconnected('Remote end closed connection without response')': /datasets/0004/46980/dataset_46980.pq\n",
      "WARNING:urllib3.connectionpool:Retrying (Retry(total=0, connect=None, read=None, redirect=None, status=None)) after connection broken by 'RemoteDisconnected('Remote end closed connection without response')': /datasets/0004/46980/dataset_46980.pq\n"
     ]
    },
    {
     "name": "stdout",
     "output_type": "stream",
     "text": [
      "Inferred task type: multiclass\n"
     ]
    },
    {
     "name": "stderr",
     "output_type": "stream",
     "text": [
      "Best trial: 21. Best value: -0.597862: 100%|██████████| 200/200 [00:06<00:00, 28.94it/s]\n"
     ]
    },
    {
     "name": "stdout",
     "output_type": "stream",
     "text": [
      "Default Tree score: 7.5011\n",
      "Tuned Tree score: 0.5233\n",
      "Beginning repeat 1\n",
      "Inferred task type: multiclass\n"
     ]
    },
    {
     "name": "stderr",
     "output_type": "stream",
     "text": [
      "Best trial: 0. Best value: -0.568099: 100%|██████████| 200/200 [00:06<00:00, 29.51it/s]\n"
     ]
    },
    {
     "name": "stdout",
     "output_type": "stream",
     "text": [
      "Default Tree score: 6.6112\n",
      "Tuned Tree score: 0.5395\n",
      "Beginning repeat 2\n",
      "Inferred task type: multiclass\n"
     ]
    },
    {
     "name": "stderr",
     "output_type": "stream",
     "text": [
      "Best trial: 15. Best value: -0.529511: 100%|██████████| 200/200 [00:06<00:00, 29.42it/s]\n"
     ]
    },
    {
     "name": "stdout",
     "output_type": "stream",
     "text": [
      "Default Tree score: 6.1026\n",
      "Tuned Tree score: 0.5088\n",
      "Beginning repeat 3\n",
      "Inferred task type: multiclass\n"
     ]
    },
    {
     "name": "stderr",
     "output_type": "stream",
     "text": [
      "Best trial: 21. Best value: -0.461798: 100%|██████████| 200/200 [00:06<00:00, 29.48it/s]\n"
     ]
    },
    {
     "name": "stdout",
     "output_type": "stream",
     "text": [
      "Default Tree score: 7.0562\n",
      "Tuned Tree score: 0.5742\n",
      "Beginning repeat 4\n",
      "Inferred task type: multiclass\n"
     ]
    },
    {
     "name": "stderr",
     "output_type": "stream",
     "text": [
      "Best trial: 21. Best value: -0.430744: 100%|██████████| 200/200 [00:06<00:00, 28.90it/s]\n"
     ]
    },
    {
     "name": "stdout",
     "output_type": "stream",
     "text": [
      "Default Tree score: 7.1833\n",
      "Tuned Tree score: 0.5433\n"
     ]
    }
   ],
   "source": [
    "RANDOM_STATE = 42\n",
    "N_TRIALS = 200\n",
    "\n",
    "for dataset_name in dataset_name_to_task_id:\n",
    "    print('\\n\\n')\n",
    "    print('=' * 100)\n",
    "    print(f'Running for {dataset_name}')\n",
    "\n",
    "    default_tree_scores = []\n",
    "    tuned_tree_scores = []\n",
    "\n",
    "    for repeat_index in range(5):\n",
    "        print(\"Beginning repeat\", repeat_index)\n",
    "        task = openml.tasks.get_task(dataset_name_to_task_id[dataset_name])\n",
    "        data = get_task_variables(task, fold=0, repeat=repeat_index)\n",
    "        data = preprocess_for_tree(data)\n",
    "        task_type = data['task_type']\n",
    "        X_train, X_val, y_train, y_val = train_test_split(\n",
    "            data[\"X_train\"], data[\"y_train\"], test_size=0.2, \n",
    "            random_state=RANDOM_STATE, stratify=data['y_train'] if data['task_type'] == 'multiclass' else None\n",
    "        \n",
    "        )\n",
    "        X_test, y_test = data[\"X_test\"], data[\"y_test\"]\n",
    "\n",
    "        dt_cls = (\n",
    "            DecisionTreeClassifier\n",
    "            if task_type != \"regression\"\n",
    "            else DecisionTreeRegressor\n",
    "        )\n",
    "\n",
    "        # Default decision tree\n",
    "        model = dt_cls(random_state=RANDOM_STATE)\n",
    "        model.fit(X_train, y_train)\n",
    "        pred_fn = get_pred_fn(model, task_type)\n",
    "\n",
    "        default_tree_scores.append(\n",
    "            metric_func_by_task[task_type](y_test, pred_fn(X_test))\n",
    "        )\n",
    "\n",
    "        # Tuned decision tree\n",
    "        params = tune(\n",
    "            dt_cls, tree_search_space, X_train, y_train, X_val, y_val, task_type\n",
    "        )\n",
    "\n",
    "        model = dt_cls(random_state=RANDOM_STATE, **params)\n",
    "        model.fit(X_train, y_train)\n",
    "        pred_fn = get_pred_fn(model, task_type)\n",
    "        tuned_tree_scores.append(\n",
    "            metric_func_by_task[task_type](y_test, pred_fn(X_test))\n",
    "        )\n",
    "        print(f'Default Tree score: {default_tree_scores[-1]:.4f}' )\n",
    "        print(f'Tuned Tree score: {tuned_tree_scores[-1]:.4f}' )\n",
    "\n",
    "    # >>> Load tabarena baselines (just the scores from the above df)\n",
    "    df = pd.read_parquet(\n",
    "        \"https://tabarena.s3.us-west-2.amazonaws.com/results/df_results_leaderboard.parquet\"\n",
    "    )\n",
    "\n",
    "    tabarena_baselines = [\n",
    "        \"TABPFNV2 (default)\",\n",
    "        \"TABPFNV2 (tuned)\",\n",
    "        \"XGB (default)\",\n",
    "        \"XGB (tuned)\",\n",
    "    ]\n",
    "\n",
    "    # fold ids -- see https://github.com/autogluon/tabrepo/issues/209 for why this formula\n",
    "    d,m = df.fold.divmod(10)\n",
    "\n",
    "    df_fold0_5repeats = df[(d == 0) & (m < 5)]\n",
    "    df_filtered = df_fold0_5repeats[df_fold0_5repeats[\"method\"].isin(tabarena_baselines)]\n",
    "\n",
    "    # Convert 1-AUC back to AUC for binary classification\n",
    "    # other errors are logloss and RMSE\n",
    "    mask = (df_filtered[\"problem_type\"] == \"binary\") & (\n",
    "        df_filtered[\"metric\"] == \"roc_auc\"\n",
    "    )\n",
    "    df_filtered.loc[mask, \"metric_error\"] = 1 - df_filtered.loc[mask, \"metric_error\"]\n",
    "\n",
    "    baseline_errors = {\n",
    "        method: df_filtered[\n",
    "            (df_filtered[\"dataset\"] == dataset_name) & \n",
    "            (df_filtered[\"method\"] == method)\n",
    "        ][\"metric_error\"].tolist()\n",
    "        for method in tabarena_baselines\n",
    "    }\n",
    "\n",
    "    results_path = f\"results/baseline_scores.{dataset_name}.json\"\n",
    "    Path('results').mkdir(exist_ok=True)\n",
    "\n",
    "    with open(results_path, \"w\") as f:\n",
    "        json.dump({\n",
    "            'CART (tuned)': tuned_tree_scores,\n",
    "            'CART (default)': default_tree_scores,\n",
    "            } | \n",
    "            baseline_errors,\n",
    "            f, indent=4\n",
    "        )"
   ]
  },
  {
   "cell_type": "code",
   "execution_count": null,
   "metadata": {},
   "outputs": [],
   "source": []
  }
 ],
 "metadata": {
  "kernelspec": {
   "display_name": "Python 3 (ipykernel)",
   "language": "python",
   "name": "python3"
  },
  "language_info": {
   "codemirror_mode": {
    "name": "ipython",
    "version": 3
   },
   "file_extension": ".py",
   "mimetype": "text/x-python",
   "name": "python",
   "nbconvert_exporter": "python",
   "pygments_lexer": "ipython3",
   "version": "3.11.5"
  }
 },
 "nbformat": 4,
 "nbformat_minor": 4
}
